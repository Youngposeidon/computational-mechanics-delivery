{
 "cells": [
  {
   "cell_type": "markdown",
   "id": "5e9a8208",
   "metadata": {
    "jp-MarkdownHeadingCollapsed": true,
    "tags": []
   },
   "source": [
    "<img src=\"images/TRU_Logo_Horizontal_RGB-colour37470.png\" width=600 />\n",
    "<!-- The line above is html code. This line is html comment, it won't affect the output -->\n",
    "\n",
    "# Physics 2200 - Mechanics\n",
    "## Project 1 - Numerical integration and differentiation"
   ]
  },
  {
   "cell_type": "markdown",
   "id": "d96947bf",
   "metadata": {},
   "source": [
    "Hello, and welcome to the first computational project for PHYS-2200!\n",
    "\n",
    "Every project will consist of a Jupyter notebook, like this one. A notebook is made of code cells. Cells can be of two types: Code or Markdown. If you click on this text, you will see to word **Markdown** apear in the toolbar above. If you click on a Code cell, the word **Code** will appear instead. Markdown cells are used for creating nicelly formated text, like this one. Code cells contain the code that actually performs the work on the notebook. You can change a cell from Code to Markdown and back using the toolbar above.\n",
    "\n",
    "In every project, the first cells will introduce you to the type of programming that will be done. They contain examples that you can modify and run to familiarize yourself with the project. In the end, you will find instructions on the programming you must do yourself to get credits for this project.\n",
    "\n",
    "Here is our very first cell of code:"
   ]
  },
  {
   "cell_type": "code",
   "execution_count": 1,
   "id": "b76beaf5",
   "metadata": {},
   "outputs": [],
   "source": [
    "import matplotlib.pyplot as plt\n",
    "import PhysPlot\n",
    "import numpy as np\n",
    "import csv"
   ]
  },
  {
   "cell_type": "markdown",
   "id": "a1466de4",
   "metadata": {},
   "source": [
    "All it does, is to load a few code libraries that we will be using. Code libraries contain python commands (functions and classes) that we can use without having to code it all from scratch ourselves. These commands will always be on our notebooks and you don't have to worry about them, beyond making sure they are run before any other cells in the notebook.\n",
    "\n",
    "To run a cell, click on it and then on the *\"play\"* button on the toolbar above. Alternatively, you can just press *Shift + Enter*.\n",
    "After running a Code cell, you should see a number on the brackets beside it. If it is the first cell you run in this session, the number will be 1.\n",
    "\n",
    "Here is another code cell. In this one, we define two quantities for a particle: the velocity **$v$** and the initial position $x_0$. Then these quantities are used to compute the position at time $t=7$ (assuming constant velocity). Finaly, the result is printed out."
   ]
  },
  {
   "cell_type": "code",
   "execution_count": 3,
   "id": "e4cd941e",
   "metadata": {},
   "outputs": [
    {
     "name": "stdout",
     "output_type": "stream",
     "text": [
      "33\n"
     ]
    }
   ],
   "source": [
    "# Define velocity, initial position and final time.\n",
    "v = 5\n",
    "x0 = 3\n",
    "tf = 6\n",
    "\n",
    "# Compute final position and print result.\n",
    "x = x0 + v * tf\n",
    "print(x)"
   ]
  },
  {
   "cell_type": "markdown",
   "id": "93d84fcc",
   "metadata": {},
   "source": [
    "Notice that any code that comes after a *hashtag* is treated as a *comment* by the Python interpreter and does not affect the results. \n",
    "Try changing the value of the final time, and re-run the cell to see the result.\n"
   ]
  },
  {
   "cell_type": "markdown",
   "id": "5c320582",
   "metadata": {},
   "source": [
    "## Plots\n",
    "\n",
    "One of the most useful scientific tasks that can be performed on a computer is graphing. Computers do this by finding the values of a function at many discrete points and then plots those points. For this we will be using the python package matplotlib (Mathematical plotting library). To get started, we will take the above position function and plot how the position changes over time. To do this, we need to create two arrays, an array is just a long list of numbers. Arrays are sometimes called vectors and, although they can represent physical vectors, we will not be using arrays as vectors just yet.\n",
    "\n",
    "The first array will hold the time axis, this will typically be defined from $t = 0$ to $t = t_f$. The second array will hold the function values at the various time steps (note that computers cannot really plot continuous functions, only dicret points).\n",
    "\n",
    "<!--Note that since computers are discrete machines, that is they compute at 16, 32, or 64 bits, the decimal values cannot be infinitely long. There is a maximum decimal value length. That means that we cannot graph continuous functions, only approximate functions. The plots will look like they are continuous, but keep this in mind when working with plots.-->\n",
    "\n",
    "<!--There are two ways to plot. The first would be to take a deep dive into matplotlib and figure out the functions required to make a nice plot. The other is to use the provided Python Package PhysPlot.py (imported in the first code block) to make the plots for you. Python Packages are Python code designed to run given a set of parameters. So, for this particular plot you will see both matplotlib code and the plot function from PhysPlot.py.-->"
   ]
  },
  {
   "cell_type": "code",
   "execution_count": 4,
   "id": "69dab73c",
   "metadata": {},
   "outputs": [],
   "source": [
    "# The following two lines of code use functions from the \"numpy\" library to create arrays.\n",
    "# The first runs from 0 to tf, which we defined above as 6, with increment steps of 0.03.\n",
    "t = np.linspace(0, tf, 0.03)\n",
    "\n",
    "# The second array is made only of zeroes and has the same number of elements that the\n",
    "# array \"t\" has. This number can be obtained for any array with the function len()\n",
    "x = np.zeros(len(t))"
   ]
  },
  {
   "cell_type": "markdown",
   "id": "a11bdbe4",
   "metadata": {},
   "source": [
    "If we were to plot the arrays as is, we would only get the zero function. This is because the values of x are all zero. We need to populate x with appropriate values. How do we do that? Loops. We will use a \"for\" loop. The loop will iterate through x assigning each value according to the kinematic equation for position."
   ]
  },
  {
   "cell_type": "code",
   "execution_count": 5,
   "id": "3574d3f3",
   "metadata": {},
   "outputs": [],
   "source": [
    "for i in range(len(x)):\n",
    "    x[i] = x0 + v * t[i]"
   ]
  },
  {
   "cell_type": "markdown",
   "id": "e8563d86",
   "metadata": {},
   "source": [
    "Notice the elements being iterated on by the loop are indented. The indented values are the scope of the loop. If there were any non-indented lines after the loop, these would be out of the loop. This means they would be run only once, after the loop is finished. \n",
    "\n",
    "Next, we plot the arrays in two different ways. The first cell implements the necessary commands to create the plot with the tools of the **matplotlib** library (abreviated *plt* here). The second cell simply calls a plot command from our own code library **PhysPlot**. **PhysPlot** simply implements the same matplotlib commands on the background, so you don't have to worry about it and can focus on the Physics. If you would like to learn matplotlib, you are wellcome to make the plots yourself. You can always take a look at the *PhysPlot.py* file to see what we have implemented."
   ]
  },
  {
   "cell_type": "code",
   "execution_count": 6,
   "id": "693e5b5a",
   "metadata": {},
   "outputs": [
    {
     "data": {
      "image/png": "[encoded data removed]",
      "text/plain": [
       "<Figure size 504x360 with 1 Axes>"
      ]
     },
     "metadata": {
      "needs_background": "light"
     },
     "output_type": "display_data"
    }
   ],
   "source": [
    "# Creating the plot from scratch with matplotlib (plt)\n",
    "plt.figure(figsize=(7, 5))\n",
    "plt.plot(t, x) # Plots the graph, with t on the x-axis, x(t) on the y-axis\n",
    "plt.xlabel(\"Time (s)\") # gives the x-axis title\n",
    "plt.ylabel(\"Position (m)\") # gives the y-axis title\n",
    "plt.grid() # displays the gridlines"
   ]
  },
  {
   "cell_type": "code",
   "execution_count": 8,
   "id": "b4896850-c70e-4c07-be5e-994c24eca627",
   "metadata": {},
   "outputs": [
    {
     "data": {
      "image/png": "[encoded data removed]",
      "text/plain": [
       "<Figure size 504x360 with 1 Axes>"
      ]
     },
     "metadata": {
      "needs_background": "light"
     },
     "output_type": "display_data"
    }
   ],
   "source": [
    "# Does the same thing as the above code but in one line.\n",
    "PhysPlot.plot(t, x, \"Time (s)\", \"Position (m)\") "
   ]
  },
  {
   "cell_type": "markdown",
   "id": "e23c86d7",
   "metadata": {},
   "source": [
    "Notice the two plots are the same but using the **PhysPlot** method is easier than using matplotlib. However, we are simply implementing the same matplotlib methods in PhysPlot. So, for this course you have the choice of either using matplotlib and having the ability to customize your graphs to your liking (a usefull skill, but a lot more time consuming) or you can use **PhysPlot** provided to save time and have consistent plots throughout.\n",
    "\n",
    "If you do use matplotlib, keep in mind the ordering in the above code. The order matters."
   ]
  },
  {
   "cell_type": "markdown",
   "id": "f3222cb7-4c6b-4c4b-8dbd-0df71165c6e2",
   "metadata": {},
   "source": [
    "# Numerical solution to Fluid Resistance\n",
    "Fluid Resistance is a force that depends on the velocity of the object. We will study three models for this dependence: linear, quadratic, or a combination of both. In general, $F(v) = -c_1v-c_2v|v|$.\n",
    "\n",
    "The goal for this section is for you to integrate using python. Remember that integration is the limit of a sum. With a computer, we aim to approximate that limit by summing a large (albeit not infinite) number of small increments. This is called a *numerical* solution. The simplest method for doing this is the Euler method, which we will see next."
   ]
  },
  {
   "cell_type": "markdown",
   "id": "9a5d47b0",
   "metadata": {
    "tags": []
   },
   "source": [
    "## Linear Fluid Resistance\n",
    "\n",
    "Let's solve the **linear** air drag free-fall problem numerically using Euler method. The differential equation reads (choosing positive to be downward):\n",
    "\n",
    "$m \\frac{dv}{dt} = -c_1 v + mg$\n",
    "\n",
    "We solved this in class and got the result:\n",
    "\n",
    "$v = v_t \\left( 1 - e^{-t/\\tau} \\right) + v_0 \\, e^{-t/\\tau}$\n",
    "\n",
    "where $v_t = \\frac{mg}{c_1}$ is the *terminal velocity* and $\\tau = m/c_1$ is called the *time constant*.\n",
    "\n",
    "<!--This can be integrated to get the position:\n",
    "\n",
    "$x = x_0 +v_t t - \\tau(v_0 - v_t) \\left( e^{-t/\\tau} - 1 \\right)$-->\n",
    "\n",
    "When solving ODEs analytically, we usually solve for the general function first and then apply initial conditions to determine the integration constants. When solving numerically, we usually adopt a \"crawling forward\" approach starting with the initial conditions.\n",
    "\n",
    "Say the initial conditions for this problem are $v_0$ and $x_0$ (we only need $v_0$ in this case). Now we want to \"crawl\" one \"step\" forward with our solution, to find the velocity at the next time \"step\", $v_1$. To do this, we take a small enough time step so that we can approximate the acceleration to be constant during this period:\n",
    "\n",
    "$a = \\frac{dv}{dt} \\quad \\rightarrow \\quad a = \\frac{\\Delta v}{\\Delta t} \\quad \\rightarrow \\quad \\Delta v = a \\Delta t $\n",
    "\n",
    "therefore,\n",
    "\n",
    "$v_1 = v_0 + a_0 \\Delta t$\n",
    "\n",
    "or, the same equation with explicit time dependence\n",
    "\n",
    "$v(t_1) = v(t_0 + \\Delta t) = v(t_0) + a(t_0) \\Delta t$\n",
    "\n",
    "This looks logical enough, but notice there is a simplification here: $a(t)$ is a function of time and it will change during the time step $\\Delta t$, however small. We are choosing to approximate the acceleration as a constant during this time. And more, we are choosing to use the value of $a(t)$ at the beginning of the time step as our constant. This is the Euler method and, although it looks simple and intuitive, we will see later that there are sometimes better options. The figure below illustrates the errors involved in the method Notice the differentce betwen the blue and yellow curves at $t_{i+1}$.\n",
    "\n",
    "<img src=\"images/euler.jpg\" width=500 style=\"float:right\"/>\n",
    "\n",
    "We will discuss the errors introduced by numerical solutions in more detail below.\n",
    "\n",
    "<!--taking *finite steps* taken drectly from the differential equation:\n",
    "\n",
    "$a = \\frac{dv}{dt} = -\\frac{c_1}{m} v + g \\quad \\rightarrow \\quad \\Delta v = -\\frac{c_1}{m} v + g$\n",
    "\n",
    "A reasonable approximation for the velocity right after would be given by-->\n",
    "\n",
    "Notice that, to find $v_1$, we need $a_0$, in adition to $v_0$. You can calculate the acceleration at the starting time using the differential equation for the problem:\n",
    "\n",
    "$a_0 = a(t_0) = \\left(\\frac{dv}{dt}\\right)_0 = - \\frac{c_1}{m} v_0 + g$    \n",
    "\n",
    "What to use for $\\Delta t$? It is actually up to you. The size of the time steps $\\Delta t$ determine how fast we crawl forward with the solution. In general, the smaller the time step you pick, the more accurate the code is, but also the slower it is to compute the solution (more steps to go over). As a rule of thumb, you should use as small a time step as you can.\n",
    "\n",
    "We can generalize the above equations so they apply to an arbitrary step $n$. The general equations for Euler's Method for the velocity in this problem are:\n",
    "\n",
    "$v_{n+1} = v_n + a_n\\Delta t$\n",
    "\n",
    "$a_n = - \\frac{c_1}{m} v_n + g$\n",
    "\n",
    "To summarize: at any step $n$, you can use the velocity at that step $v_n$, to calculate the acceleration $a_n$ (second equation). Then use the acceleration to calculate the velocity at the next step $v_{n+1}$. This proceedure continues untill we have calculates the velocity for all the times of interest.\n",
    "\n",
    "### Unit Re-scaling \n",
    "\n",
    "One issue we are often faced with, when computing numerical solutions is rounding error. Computers can store numbers with enormous, but not infinite, precision. For this reason, it is good practice to keep the numbers being calculated to reasonable ranges (usually as close to 1 as possible).\n",
    "\n",
    "This can easily be achieved by re-scaling the equations so that all the quantities are written in terms of \"typical values\" in the problem. Let's see how this is done in the present case.\n",
    "\n",
    "<!--That is a lot of information that the computer needs to handle. To simplify the information, we re-scale the units. This is done so that we are looking at unitless quantities (computers can't handle units), most numbers are near 1 as a value, and to avoid rounding errors.-->\n",
    "\n",
    "Here a good choice is to measure time in units of the time constant $\\tau$, and the velocity in units of the terminal velocity $v_t$:\n",
    "\n",
    "$T = t / \\tau \\qquad u = v / v_t$\n",
    "\n",
    "Where $v_t = \\frac{mg}{c_1}$ and $\\tau = m/c_1$.\n",
    "\n",
    "Applying this for the linear case of fluid resistance, we get $a = \\frac{du}{dT} = 1-u$ (Try deriving this equation yourself, from the original differential equation). \n",
    "\n",
    "In these units, the velocity will converge to 1 (in units of the final velocity), and it should take a time of order a few (4 or 5, in units of the time constant) for the velocity to converge. The final, re-scaled equations are:\n",
    "\n",
    "$u_{n+1} = u_n + a_n \\Delta T$.\n",
    "\n",
    "$a_n = 1-u_n$\n",
    "\n",
    "This is implemented in the code cell below. Inspect the code and make sure you understand what every line is doing.\n",
    "\n",
    "<!--The same type of plots must be used for the Quadratic Case as well.-->"
   ]
  },
  {
   "cell_type": "code",
   "execution_count": 2,
   "id": "b4d68acf",
   "metadata": {},
   "outputs": [],
   "source": [
    "# Euler Method integration of Linear Fluid Resistance\n",
    "\n",
    "dt = .001                      # Size of time steps.\n",
    "tf = 5                         # Final time (in units of tau). Solution will be calculated up to this point.\n",
    "u0 = 0                         # Initial condition, velocity at time 0.\n",
    "t = np.arange(0, tf, dt)       # Values of every time point to compute the solution at. From start to stop in steps of dt\n",
    "u = np.zeros(len(t))           # Creates an array the same size as t that is all zeroes. Will contain the solutions to the velocity at every time step.\n",
    "u[0] = u0                      # Assign the value of the first entry of the velocity array with the initial condition. Python arrays are zero-based.\n",
    "\n",
    "for i in range(0, len(t)-1):   # This is how you create an iterator loop in Python.\n",
    "    a = 1 - u[i]               # Normalized Linear equation for the acceleration.\n",
    "    u[i+1] = u[i] + dt * a     # This is Euler's method. Assigning the next value of the velocity."
   ]
  },
  {
   "cell_type": "markdown",
   "id": "4b631b67-e874-4f57-8055-5e266d59f92c",
   "metadata": {},
   "source": [
    "The code cell above implements the Euler method. The velocity of the object for every time point is now stored in the array $u$. You can print the array $u$ to see some of the values."
   ]
  },
  {
   "cell_type": "code",
   "execution_count": 5,
   "id": "9a119b1c-5dc2-4fe4-838a-bec75f6a7f6a",
   "metadata": {},
   "outputs": [
    {
     "name": "stdout",
     "output_type": "stream",
     "text": [
      "[0.         0.001      0.001999   ... 0.99325868 0.99326543 0.99327216]\n"
     ]
    }
   ],
   "source": [
    "print(u)"
   ]
  },
  {
   "cell_type": "markdown",
   "id": "f1dda175-7f2c-492e-b16b-a8416f0ca421",
   "metadata": {},
   "source": [
    "A better way to see the results is to plot them. In the code cell below, we plot the result of our numerical calculation as well as the exact analytic result. The third plot shows both lines toguether and the fourth plot shows the difference between the numerical and the exact solutions."
   ]
  },
  {
   "cell_type": "code",
   "execution_count": 3,
   "id": "d010a5a4-3082-4d2a-b263-5fe797f06d84",
   "metadata": {},
   "outputs": [
    {
     "data": {
      "image/png": "[encoded data removed]",
      "text/plain": [
       "<Figure size 504x360 with 1 Axes>"
      ]
     },
     "metadata": {
      "needs_background": "light"
     },
     "output_type": "display_data"
    },
    {
     "data": {
      "image/png": "[encoded data removed]",
      "text/plain": [
       "<Figure size 504x360 with 1 Axes>"
      ]
     },
     "metadata": {
      "needs_background": "light"
     },
     "output_type": "display_data"
    },
    {
     "data": {
      "image/png": "[encoded data removed]",
      "text/plain": [
       "<Figure size 504x360 with 1 Axes>"
      ]
     },
     "metadata": {
      "needs_background": "light"
     },
     "output_type": "display_data"
    },
    {
     "data": {
      "image/png": "[encoded data removed]",
      "text/plain": [
       "<Figure size 504x360 with 1 Axes>"
      ]
     },
     "metadata": {
      "needs_background": "light"
     },
     "output_type": "display_data"
    }
   ],
   "source": [
    "# This is the analytical solution. We will use it to compare to our numerical solution.\n",
    "def linear_analytic_v(u0, T):\n",
    "    # u0 is the initial velocity in units of terminal velocity\n",
    "    # T is an array of times in units of the time constant tau\n",
    "    return (u0 - 1) * np.exp(-T) + 1\n",
    "\n",
    "# Plot analytic and numerical solutions\n",
    "PhysPlot.plot(t, linear_analytic_v(u0,t), r\"Time ($t/\\tau$)\", r\"Speed ($v/v_t$)\")\n",
    "PhysPlot.plot(t, u, r\"Time ($t/\\tau$)\", r\"Speed ($v/v_t$)\")\n",
    "# This is used to plot two or more curves in a single graph. The first argument is the x-axis array, \n",
    "# the second argument is a list with as many y-axis arrays as wanted. The third argument is a list of the same size\n",
    "# With labels for aech y-axis array. The last two arguments are the axes titles.\n",
    "PhysPlot.multiplot(t, [linear_analytic_v(u0, t), u], [\"Analytic\", \"Numerical\"], r\"Time ($t/\\tau$)\", r\"Speed ($v/v_t$)\")\n",
    "\n",
    "# Plot the difference between Numerical and Analytic Solution.\n",
    "PhysPlot.plot(t, u-linear_analytic_v(u0,t), r\"Time ($t/\\tau$)\", r\"Speed ($v/v_t$)\")"
   ]
  },
  {
   "cell_type": "markdown",
   "id": "e0846b3c-6550-4ea6-9255-b68aff5aa6a4",
   "metadata": {},
   "source": [
    "We can seet that Euler's method is quite precise for our choice of time step (0.001 of the time constant). The maximum error (difference plot) is about 0.0001, so 0.01% of the final velocity, pretty good! Try changing the size of the time step and see how it affect the error (maximum of the difference plot). How big must you make the time step, so you can see two separate curves in the multyplot (third plot)?"
   ]
  },
  {
   "cell_type": "markdown",
   "id": "13acbf7d-eb0e-4677-8a39-dd03e64250e3",
   "metadata": {},
   "source": [
    "In this first, simple case, we can find the analytical solution, so we can compute the error exactly by taking the difference. Most of the time, we will not be able to compute the analytical solution, and the numerical solution will be our only option. It is important to keep in mind, however, that numerical solutions introduce errors, and this errors grow with the size of the time step."
   ]
  },
  {
   "cell_type": "markdown",
   "id": "eb6f1445",
   "metadata": {
    "tags": []
   },
   "source": [
    "## Problem 1 - Quadratic Fluid Resistance (1 point)\n",
    "\n",
    "Now that you have seen the linear fluid resistance solution, the next step is for you to figure out the quadratic fluid resistance. Remember that, in this case, the differential equation is given by:\n",
    "\n",
    "$m \\frac{dv}{dt} = -c_2 v^2 + mg$\n",
    "\n",
    "where we have adopted downward as positive and the equation is only valid for downward initial velocities.\n",
    "\n",
    "We have solved this analytically in class, so you can compare your numerical results to the analytical solution (notice this equation has a typo in the text):\n",
    "\n",
    "$v = v_t \\tanh \\left( \\frac{t}{\\tau} + \\tanh^{-1} \\frac{v_0}{v_t} \\right)$\n",
    "\n",
    "where the terminal velocity is given by $v_t = \\sqrt{\\frac{mg}{c_2}}$ and the time constant by $\\tau = \\sqrt{\\frac{m}{c_2 g}}$.\n",
    "\n",
    "Here are the steps you should follow to solve this:\n",
    "  1) Re-scale the differential equation in terms of $v_t$ and $\\tau$.\n",
    "  2) Write the numerical equations for the Euler method. There will be two equations: one for $a_n$ as a function of $v_n$ (this will be different then the linear case) and one for $v_{n+1}$ as a function of $a_n$ and $v_n$ (this will be the same as for the linear case).\n",
    "  3) Write the code to find the numerical solution and compare it to the analytic solution. You can copy the code cell we used for the linear solution. The only thing that need to change is one line inside of the for loop.\n",
    "  4) Create the same plots that we did for the linear case, including the difference between numerical and analytic solutions. Naturaly, you need to create a new function for the analytic solution. To do this, you will need the python code for hyperbolic tangent and its inverse: **np.tanh()** and **np.arctanh()**. (Remember to re-write the analytic solution in the re-scaled units). \n",
    "  5) What is the maximum value for the error? Try changing the time step to see how the error grows. How big do you need to make the time step, to get an error of order 1% (0.01)?"
   ]
  },
  {
   "cell_type": "code",
   "execution_count": 8,
   "id": "8ae90313-0317-4f9a-8c74-10c0129242f4",
   "metadata": {},
   "outputs": [],
   "source": [
    "# Here goes your code for the Euler method integration of Quadratic Fluid Resistance.\n",
    "# You should copy most of the code cell for the linear case as a start. Then make the few changes necessary.\n",
    "\n"
   ]
  },
  {
   "cell_type": "code",
   "execution_count": 1,
   "id": "db0ccfb8-3024-4f9d-a0b9-6e0ef24c26ea",
   "metadata": {},
   "outputs": [],
   "source": [
    "# Here goes your code to make plots and compare to the analytic solution.\n",
    "\n"
   ]
  },
  {
   "cell_type": "markdown",
   "id": "14e044d7",
   "metadata": {
    "tags": []
   },
   "source": [
    "## Problem 2 - Solve the Full Fluid Resistance Equation (2 points)\n",
    "\n",
    "Now we will tackle the full fluid resistance equation, containing botha linear and a quadratic term. We do not have an analytical solution for this case, so here a numerical solution is our only option. The differential equation is given by (valid for downward velocities):\n",
    "\n",
    "$m \\frac{dv}{dt} = -c_1 v -c_2 v^2 + mg$\n",
    "\n",
    "In this case, we cannot easily get rid of the constants $c_1$ and $c_2$ in favor of $v_t$ and $\\tau$. So we need to wrok with actual numbers. The text give approximate values for $c_1$ and $c_2$ for spherical objects in air. In SI units, we have:\n",
    "\n",
    "$c_1 = 1.55 \\times 10^{-4} D$\n",
    "\n",
    "$c_2 = 0.22 \\, D^2$\n",
    "\n",
    "where $D$ is the diameter of the sphere. \n",
    "\n",
    "We will do our calculations for a spherical raindrop of diameter $D=0.5 mm$. Find the values of $c_1$ and $c_2$ and use the density of water to find the mass of the raindrop. Write the numerical equations for the Euler method. Don't worry about re-scaling here. Use $g=9.807 m s^{-2}$.\n",
    "\n",
    "Since we don't know what the characteristic time will be in this case, you will have to explore a bit to find what the time step should be and for how long (final time) you should integarte. If you pick a final time that is too small, the velocity will not reach the terminal value. If you pick a final time that is too large, it will reach it in the first few steps and be constant after that. You should pick a final time so that you can see the velocity gradually approach the terminal value in your graph.\n",
    "\n",
    "Since we don't have an exact solution, how do you know you have chosen a time step small enough to have minimal errors? A good trick is this: start with a large time step. As you decrease it, your result will change because the errors get smaller. Keep reducing the time step size. When your results stop changing appreciably, it means you have reached a good enough time resolution. In this case, we say that the solution has \"converged\". \n",
    "\n",
    "Here is another way to check your results. In problem 2.15 you derived an expression for the terminal velocity of the linear + quadratic case. Use that expression to calculate the terminal velocity and compare to what you get numerically!\n",
    "\n",
    "Finally, let's show that in the case of this raindrop, neither a linear nor a quadratic only approximation would be adequate. To do this, plot the analytical solutions for the linear and for the quadratic cases toguether with your numerical solution for the full case. Use the same values for $c_1$, $c_2$ and $m$ in all cases. Which model takes longer to reach terminal velocity? Which model has the largest terminal velocity? Which model has the smallest terminal velocity?"
   ]
  },
  {
   "cell_type": "code",
   "execution_count": 13,
   "id": "a1a65fb4-ab89-46db-9ece-5f905701f5f9",
   "metadata": {},
   "outputs": [],
   "source": [
    "# Here goes your code for the solution of problem 2.\n",
    "# Some of it can be copied from previous cases.\n",
    "\n"
   ]
  },
  {
   "cell_type": "code",
   "execution_count": 2,
   "id": "139bf876-e5b8-4f30-b3d4-c5b5ec61480a",
   "metadata": {},
   "outputs": [],
   "source": [
    "# Here goes your code for generating the suggested plots for problem 2.\n",
    "\n"
   ]
  },
  {
   "cell_type": "markdown",
   "id": "baed7f6b-2056-4fcb-ba01-0c3861b64993",
   "metadata": {},
   "source": [
    "## Position\n",
    "\n",
    "You might be interested in the object's position as a function of time, as well as its velocity. We have been able to ignore the position untill now because we were dealing with forces that depend only on velocity.\n",
    "\n",
    "To calculate positions using the Euler method is a straightforward extension of what we have already seen. In the same way that you get the velocity at the next time point from the acceleration at the current time point:\n",
    "\n",
    "$a = \\frac{dv}{dt} \\quad \\rightarrow \\quad v_{n+1} = v_n + a_n\\Delta t$\n",
    "\n",
    "you can get the position at the next time point from the velocity at the current time point:\n",
    "\n",
    "$v = \\frac{dx}{dt} \\quad \\rightarrow \\quad x_{n+1} = x_n + v_n\\Delta t$\n",
    "\n",
    "In this way, you could modify all of your code blocks above to include another array $x$ and to have another line inside the *for* loop calculating positions. Naturally, you would need to give an initial position as well as an initial velocity, in this case. You will need to use this to solve the next (and final) problem in this project."
   ]
  },
  {
   "cell_type": "markdown",
   "id": "76d0f4b4",
   "metadata": {
    "tags": []
   },
   "source": [
    "## Problem 3 - Solve C2.1 (3 points)\n",
    "Solve problem C2.1 from the textbok. You will need to solve parts b), c) and d) numerically. For this, you will have to compute the position, as well as the velocity, at each time point. This is explained in the paragraph above."
   ]
  },
  {
   "cell_type": "markdown",
   "id": "e3b7107a-b631-4172-8f86-d93e42f051c5",
   "metadata": {
    "tags": []
   },
   "source": [
    "### Part (a)"
   ]
  },
  {
   "cell_type": "code",
   "execution_count": null,
   "id": "c76f371f-f5cc-4632-9fb0-899406806c71",
   "metadata": {},
   "outputs": [],
   "source": []
  },
  {
   "cell_type": "markdown",
   "id": "628db623-7735-4658-8408-69919e42475b",
   "metadata": {
    "tags": []
   },
   "source": [
    "### Part (b)"
   ]
  },
  {
   "cell_type": "code",
   "execution_count": null,
   "id": "3cb90fbc-f44d-4057-98ec-c77aa86a365e",
   "metadata": {},
   "outputs": [],
   "source": []
  },
  {
   "cell_type": "markdown",
   "id": "41757abb-8d07-4ece-8b50-213b02b727b0",
   "metadata": {
    "tags": []
   },
   "source": [
    "### Part (c)"
   ]
  },
  {
   "cell_type": "code",
   "execution_count": null,
   "id": "f581a987-03f1-4893-910e-84329eccfda9",
   "metadata": {},
   "outputs": [],
   "source": []
  },
  {
   "cell_type": "markdown",
   "id": "299b591a-eee7-4109-835c-76f973186d22",
   "metadata": {
    "tags": []
   },
   "source": [
    "### Part (d)"
   ]
  },
  {
   "cell_type": "code",
   "execution_count": null,
   "id": "4f29fbfe-b885-4d1a-9734-a8dd02309a33",
   "metadata": {},
   "outputs": [],
   "source": []
  }
 ],
 "metadata": {
  "kernelspec": {
   "display_name": "Python 3 (ipykernel)",
   "language": "python",
   "name": "python3"
  },
  "language_info": {
   "codemirror_mode": {
    "name": "ipython",
    "version": 3
   },
   "file_extension": ".py",
   "mimetype": "text/x-python",
   "name": "python",
   "nbconvert_exporter": "python",
   "pygments_lexer": "ipython3",
   "version": "3.8.10"
  }
 },
 "nbformat": 4,
 "nbformat_minor": 5
}
