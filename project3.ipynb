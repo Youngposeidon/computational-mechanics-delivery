{
 "cells": [
  {
   "cell_type": "markdown",
   "metadata": {},
   "source": [
    "<img src=\"images/TRU_Logo_Horizontal_RGB-colour37470.png\" width=600 />\n",
    "<!-- The line above is html code. This line is html comment, it won't affect the output -->\n",
    "\n",
    "# Physics 2200 - Mechanics\n",
    "## Project 3 - Integration in 2 and 3 Dimensions"
   ]
  },
  {
   "cell_type": "markdown",
   "metadata": {},
   "source": [
    "In this project, we are going to solve the projectile motion numerically. We are going to do this for three cases: no air drag, linear air drag and quadratic air drag. We have solved the first two cases analytically in class, so you can compare your numerical results to these solutions to make sure you are on the right track before you tackle the quadratic case.\n",
    "\n",
    "In a certain way, this is just the generalization of **Project 1** to two dimmensions. The main difference is that you know have to store two arrays for position, $x$ and $z$, and two for velocity, $v_x$ and $v_z$. You also need to calculate two components of the acceleration at every step. \n",
    "\n",
    "You should use the 2nd order Rung-Kutta (RK2) method throughout this project. Errors in the Euler method can quickly pile up in two dimmensions.\n",
    "\n",
    "Interesting fact: for the case with no air drag, the RK2 method actually becomes exact! This has to do with the fact that it is a second order method and the selotion is a quadratic (parabola) polynomial."
   ]
  },
  {
   "cell_type": "code",
   "execution_count": 1,
   "metadata": {},
   "outputs": [],
   "source": [
    "import matplotlib.pyplot as plt\n",
    "import PhysPlot\n",
    "import numpy as np"
   ]
  },
  {
   "cell_type": "markdown",
   "metadata": {
    "tags": []
   },
   "source": [
    "# Problem 1: No air drag (1 point)\n",
    "This is the simplest possible case: no air drag. You are going to code a numerical version of this so you get a first contact with integration in 2D with a well know problem. You should code an analytical function for this so you can compare to your numerical solution for the same initial conditions. Plot the trajectory ($z \\times x$) graph for both the numerical and analytical solutions.\n",
    "\n",
    "\n",
    "### Notice about ploting\n",
    "Notice that even though you are calculating the trajectory for the same values of time $t$ in the numerical and analytical cases, they will not necessarily have the same exact values of $x$ due to numerical errors. \n",
    "\n",
    "Since we will be plotting $z \\times x$ this time I needed to change the function *multiplot* so that it accepts a list for the horizontal axis as well as the vertical axis. Here is what the call to *multiplot* will look like if your numerical solution arrays are $x$ and $z$ and the analytical ones are $xa$ and $za$:\n",
    "\n",
    "**PhysPlot.multiplot([x, xa], [z, za], [\"Numerical\", \"Analytic\"], \"x\", \"z\")**"
   ]
  },
  {
   "cell_type": "code",
   "execution_count": 7,
   "metadata": {},
   "outputs": [],
   "source": [
    "# rk2 function that takes in the acceleration as a function in terms of position, velocity, and time.\n",
    "# Uses it to compute one iteration of the rk2 method \n",
    "\n",
    "def rk2(afunc,xi,vi,ti,dt):\n",
    "    a = afunc(vi,xi,ti)\n",
    "    tt = ti + dt/2\n",
    "    xt = xi + vi*dt/2\n",
    "    vt = vi + a*dt/2\n",
    "    at = afunc(vt,xt,tt)\n",
    "    xf = xi + vt*dt\n",
    "    vf = vi + at*dt\n",
    "    \n",
    "    return xf, vf\n",
    "    "
   ]
  },
  {
   "cell_type": "code",
   "execution_count": 8,
   "metadata": {},
   "outputs": [
    {
     "ename": "IndentationError",
     "evalue": "expected an indented block (Temp/ipykernel_17608/3567299515.py, line 28)",
     "output_type": "error",
     "traceback": [
      "\u001b[1;36m  File \u001b[1;32m\"C:\\Users\\kiere\\AppData\\Local\\Temp/ipykernel_17608/3567299515.py\"\u001b[1;36m, line \u001b[1;32m28\u001b[0m\n\u001b[1;33m    for i in range(len(t)):\u001b[0m\n\u001b[1;37m    ^\u001b[0m\n\u001b[1;31mIndentationError\u001b[0m\u001b[1;31m:\u001b[0m expected an indented block\n"
     ]
    }
   ],
   "source": [
    "alpha = 45 # launch angle in degrees\n",
    "v0 = 50 # launch speed in m/s\n",
    "x0 = 0 # inital x\n",
    "z0 = 0 # inital z\n",
    "dt = 0.05 # time interval in s\n",
    "\n",
    "# create arrays for position and velocity in x and z\n",
    "t = np.arange(0,20,dt)\n",
    "x = np.zeros(len(t))\n",
    "z = np.zeros(len(t))\n",
    "vx = np.zeros(len(t))\n",
    "vz = np.zeros(len(t))\n",
    "\n",
    "# get inital x and z velocity from launch speed and angle\n",
    "vx0 = v0*np.cos(alpha)\n",
    "vz0 = v0*np.sin(alpha)\n",
    "\n",
    "# set inital conditions\n",
    "x[0] = x0\n",
    "z[0] = z0\n",
    "vx[0] = vx0\n",
    "vz[0] = vz0\n",
    "\n",
    "# define acceleration function with no drag (for z only)\n",
    "def accNoDrag(v,x,t):\n",
    "    \n",
    "# constant velocity for x\n",
    "def constV(v,x,t):\n",
    "    \n",
    "\n",
    "for i in range(len(t)):\n",
    "    rk2(accNoDrag,xi,vi,ti,dt)\n",
    "    \n",
    "    if z[i + 1] < 0:\n",
    "        flightime = t[i + 1]\n",
    "        flightRange = x[i + 1]\n",
    "        break\n",
    "\n",
    "\n",
    "\n",
    "\n",
    "PhysPlot.multiplot([x, xa], [z, za], [\"Numerical\", \"Analytic\"], \"x\", \"z\")"
   ]
  },
  {
   "cell_type": "markdown",
   "metadata": {
    "tags": []
   },
   "source": [
    "Here is what my plot looks like. The numerical solution is not visible because it is under the analytic one (as mentioned, for the no-drag case, the RK2 method yealds an exact solution).\n",
    "\n",
    "<img src=\"images/p3_p1.jpg\" width=500 style=\"float:leftt\"/>"
   ]
  },
  {
   "cell_type": "markdown",
   "metadata": {
    "tags": []
   },
   "source": [
    "# Problem 2: Linear air drag (2 points)\n",
    "Let's code the case of linear air drag now. Remember that the equation of motion now reads:\n",
    "\n",
    "$$\\ddot{\\vec{r}} = -\\gamma \\dot{\\vec{r}} - g\\hat{k}$$\n",
    "or alternativelly,\n",
    "$$\\vec{a} = -\\gamma \\vec{v}- g\\hat{k}$$\n",
    "\n",
    "This is a force of the sepparable type, so you should be able to write two independent equations of motion for $x$ and $z$ (takin the trajectory to lie on the $xz$ plane).\n",
    "\n",
    "We have solved this problem analytically in class, the result is:\n",
    "\n",
    "$x = \\frac{\\dot{x}_0}{\\gamma}(1-e^{-\\gamma t})$\n",
    "\n",
    "$z = \\left( \\frac{\\dot{z}_0}{\\gamma} + \\frac{g}{\\gamma^2} \\right)(1-e^{-\\gamma t}) - \\frac{g}{\\gamma} t$\n",
    "\n",
    "You should code an analytical function to compare to your numerical solution for the same initial conditions. Plot the trajectory ($z \\times x$) graph for both the numerical and analytical solutions.\n",
    "\n",
    "Recall that, even though we were able to find an analytic solution to the linear drag projectile motion, we could not obtain a simple expression for the *range* of the projectile. The *range* is the horizontal ($x$) distance covered by the projectile by the time it hits the ground on a horizontal surface. The following two questions are related to finding the *range* of the motion.\n",
    "\n",
    "For the next two questions (A) and (B), adopt the following initial conditions:\n",
    "$x_0 = 0$, $z_0 = 0$, $v_0 = 50 m/s$, $\\theta_0 = 45^{\\circ}$ (launch angle with respect to the horizontal)"
   ]
  },
  {
   "cell_type": "markdown",
   "metadata": {
    "tags": []
   },
   "source": [
    "### Question (A)\n",
    "Adopt $\\gamma = 0.2 s^{-1}$ and integrate the trajectory using the initial conditions given above. Create a plot showing three trajectories ($z \\times x$): your numerical solution, the analytic solution for linear air drag (should match your numerical solution) and the analytic solution for no-drag. \n",
    "\n",
    "Find the value for the *range* of the motion, that is, the value of $x$ when the projectile hits the ground (assuming the lauch hapens on a flat ground).\n",
    "\n",
    "Here is what my plot looks like:\n",
    "\n",
    "<img src=\"images/p3_p2a.jpg\" width=600 style=\"float:left\"/>"
   ]
  },
  {
   "cell_type": "markdown",
   "metadata": {},
   "source": [
    "### Question (B)\n",
    "In class we showed that the projectile with linear drag will reach a maximum $x$ distance even if allowed to fall for an infinitely long time (immagine the projectile is shot of the edge of a very tall cliff)). By increasing the total duration of your numerical integration ($t_f$), find what this maximum value, $x_{max}$, is. compare this to the analytic prediction $x_{max} = v_{x0} / \\gamma$. Create a plot showing the $x$ position of the projectile as a function of time ($x \\times t$) to show how it approaches $x_{max}$.\n",
    "\n",
    "Here is what my plot looks like:\n",
    "\n",
    "<img src=\"images/p3_p2b.jpg\" width=600 style=\"float:left\"/>"
   ]
  },
  {
   "cell_type": "markdown",
   "metadata": {
    "tags": []
   },
   "source": [
    "# Problem 3: Example 4.3.2 (modified) - A \"tape measure\" home run (4 points).\n",
    "The objective of this problem is to find how hard Mickey Mantle had to hit the baseball to achieve his historic 1953 home run that reportedly traveled 565 ft. This is equivalent to finding the initial speed $v_0$ whith which the baseball left his bat.\n",
    "\n",
    "In Chapter 2 we saw that a baseball travelling at high speeds was better described by a quadratic air drag force. So this is what we will use for this home run example. We cannot calculate analytically the trajectory of a projectile with quadratic air drag, so a numerical solution is our only option here. The equation of motion for quadratic air drag is\n",
    "\n",
    "$\\vec{a} = -\\gamma |v| \\vec{v}- g\\hat{k}$\n",
    "\n",
    "where $|v|$ is the speed (magnitude of the velocity). This can be sepparated into:\n",
    "\n",
    "$\\ddot{x} = -\\gamma (\\dot{x}^2 + \\dot{z}^2)^{1/2} \\; \\dot{x}$\n",
    "\n",
    "$\\ddot{z} = -\\gamma (\\dot{x}^2 + \\dot{z}^2)^{1/2} \\; \\dot{z} - g$\n",
    "\n",
    "For all questions below, use $\\gamma = 0.0055 m^{-1}$ as suggested in the textbook example."
   ]
  },
  {
   "cell_type": "markdown",
   "metadata": {},
   "source": [
    "## Question (A)\n",
    "Write a numerical solution for the trajectory using the RK2 method. Use the following initial conditions: $x_0 = 0$, $z_0 = 0$, $v_0 = 50 m/s$, $\\theta_0 = 45^{\\circ}$ (launch angle with respect to the horizontal). Create a plot showing two trajectories ($z \\times x$): your numerical solution and the analytic solution for no-drag. \n",
    "\n",
    "Find the value for the *range* of the motion, that is, the value of $x$ when the projectile hits the ground (assuming the lauch hapens on a flat ground).\n",
    "\n",
    "Here is what my plot looks like:\n",
    "\n",
    "<img src=\"images/p3_p3a.jpg\" width=600 style=\"float:left\"/>"
   ]
  },
  {
   "cell_type": "markdown",
   "metadata": {
    "tags": []
   },
   "source": [
    "## Question (B)\n",
    "Let's assume that Mickey Mantle's hit left the bat at the optimal launch angle $\\theta$, that is, the angle that gives maximum range. By using this angle we are reducing the astounding speed required to achieve his feat. \n",
    "\n",
    "For a projectile with quadratic air drag, the optimal angle is **not** $45^{\\circ}$, of course. Nor is it easy to calculate analytically, so we will have to find a numerical solution. Here is how to do this: keeping the launch speed constant at $v_0 = 50 m/s$, vary the launch angle $\\theta$ to find the angle for maximum *range* for the projectile. \n",
    "\n",
    "To do this, create and array of values for the angle $\\theta$ and run the integration for each value of $\\theta$ (using a **for** loop). Find the *range* for each value of $\\theta$ and make a plot of the *range* vs. $\\theta$ clearly showing the maximum for the *range*.\n",
    "\n",
    "Here is what my plot looks like:\n",
    "\n",
    "<img src=\"images/p3_p3b.jpg\" width=600 style=\"float:left\"/>"
   ]
  },
  {
   "cell_type": "markdown",
   "metadata": {
    "tags": []
   },
   "source": [
    "## Question (C)\n",
    "Now keep the launch angle $\\theta$ fixed at the value you found in part (B), and vary the launch speed $v_0$ to find the speed required to achieve the required *range* of $565 ft$.\n",
    "\n",
    "To do this, create and array of values for the initial speed $v_0$ and run the integration for each value of $v_0$ (using a **for** loop). Find the *range* for each value of $v_0$ and make a plot of the *range* vs. $v_0$ clearly showing the speed for which the range has the fabled value of $565 ft$.\n",
    "\n",
    "Remember that the ranges of your calculations are likely in meters and you need to convert to feet to find the right initial speed. Also, since baseball is america's national pastime, you need to give your final answer for the launch speed in MPH!\n",
    "\n",
    "Here is what my plot looks like (in metric):\n",
    "\n",
    "<img src=\"images/p3_p3c.jpg\" width=600 style=\"float:left\"/>"
   ]
  },
  {
   "cell_type": "markdown",
   "metadata": {},
   "source": [
    "**Obs**: The method described in parts (B) and (C) for finding the minimum required speed is a simplification of the problem. In truth, the optimal launch angle $\\theta$ varies with the launch speed $v_0$. A full solution would require solvinf for the range in a grid for various combinations of $\\theta$ and $v_0$. That said, the optimal angle $\\theta$ varies slowly with $v_0$ for the ranges we are considering, and our approximate method is good enough."
   ]
  }
 ],
 "metadata": {
  "kernelspec": {
   "display_name": "Python 3 (ipykernel)",
   "language": "python",
   "name": "python3"
  },
  "language_info": {
   "codemirror_mode": {
    "name": "ipython",
    "version": 3
   },
   "file_extension": ".py",
   "mimetype": "text/x-python",
   "name": "python",
   "nbconvert_exporter": "python",
   "pygments_lexer": "ipython3",
   "version": "3.9.7"
  }
 },
 "nbformat": 4,
 "nbformat_minor": 4
}
