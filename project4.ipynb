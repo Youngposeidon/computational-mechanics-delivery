{
 "cells": [
  {
   "cell_type": "markdown",
   "metadata": {},
   "source": [
    "<img src=\"images/TRU_Logo_Horizontal_RGB-colour37470.png\" width=600 />\n",
    "<!-- The line above is html code. This line is html comment, it won't affect the output -->\n",
    "\n",
    "# Physics 2200 - Mechanics\n",
    "## Project 4 - Orbital Motion"
   ]
  },
  {
   "cell_type": "code",
   "execution_count": 112,
   "metadata": {},
   "outputs": [],
   "source": [
    "# Required modules\n",
    "import math\n",
    "import matplotlib.pyplot as plt\n",
    "import PhysPlot\n",
    "import numpy as np\n",
    "import csv\n",
    "from mpl_toolkits import mplot3d"
   ]
  },
  {
   "cell_type": "markdown",
   "metadata": {},
   "source": [
    "## Newton's Law of Gravitation, and Kepler's Laws of Planetary Motion"
   ]
  },
  {
   "cell_type": "markdown",
   "metadata": {},
   "source": [
    "Newton's Law of Gravitation gives the gravitational force which two objects exert on each other.\n",
    "\n",
    "$$\\vec{F} = G\\frac{mM}{r^2}\\hat{r}$$\n",
    "\n",
    "The issue here is that this is the polar form of the equation, the \"nice\" version. However, polar coordinates are not ideal for numerical calculations because the basis vector change everytime the position changes, so we need to first convert the equation into cartesian. Hold on to your hats kids.\n",
    "\n",
    "Recall that:\n",
    "\n",
    "$$r^2 = x^2 + y^2$$\n",
    "$$\\theta = \\tan^{-1}\\left(\\frac{y}{x}\\right)$$\n",
    "\n",
    "and \n",
    "\n",
    "$$\\hat{r} = \\frac{\\vec{r}}{|\\vec{r}|}$$\n",
    "\n",
    "with $\\vec{r} = x\\hat{x} + y\\hat{y}$\n",
    "\n",
    "Some clever combining yields the follwing not nice equation"
   ]
  },
  {
   "cell_type": "markdown",
   "metadata": {},
   "source": [
    "#### Newton's Law of Gravitation, Cartesian Form"
   ]
  },
  {
   "cell_type": "markdown",
   "metadata": {},
   "source": [
    "$$\\vec{F} = GmM\\left(\\frac{x\\hat{x}}{(x^2 + y^2)^{3/2}} + \\frac{y\\hat{y}}{(x^2 + y^2)^{3/2}}\\right)$$"
   ]
  },
  {
   "cell_type": "markdown",
   "metadata": {},
   "source": [
    "The textbook uses a much more horrific version of the equation, which deals with the separation vector $r_{12} = (x_2 - x_1) \\hat{x} + (y_2 - y_2) \\hat{y}$, but we're going to assume the origin is both the location of the star and the location of the focus of the elliptical orbit."
   ]
  },
  {
   "cell_type": "markdown",
   "metadata": {
    "tags": []
   },
   "source": [
    "## Problem 1. Types of orbits (1 point).\n",
    "Using Newton's Law of Gravitation, solve for the trajectory of a planet orbitting a star using the second order Runge-kutta method (RK2). \n",
    "\n",
    "Generate numerical solutions and plots for each of the different types of \"orbits\" by changing the initial conditions. You should try to recreate figure 6.5.2.e in the textbook. Notice you have to solve for the orbit by numerical integration (you should not simply plot analytical expression for an ellipse, parabola, etc...).\n",
    "\n",
    "1. Elliptical\n",
    "2. Parabolic\n",
    "3. Hyperbolic\n",
    "\n",
    "The conditions required for each orbit type is known from class, and to generate certain plots, you'll need to use negative time for a proper plot (*Hint: there should be only one parameter that changes in each case*).\n",
    "\n",
    "Here is what my plot looks like (don't worry about making the dots representing the planet and the star)."
   ]
  },
  {
   "cell_type": "markdown",
   "metadata": {},
   "source": [
    "<img src=\"images/p4_p1.jpg\" width=500 style=\"float:left\"/>"
   ]
  },
  {
   "cell_type": "code",
   "execution_count": 113,
   "metadata": {},
   "outputs": [],
   "source": [
    "# rk2 function that takes in the acceleration as a function in terms of position, velocity, and time.\n",
    "# Uses it to compute one iteration of the rk2 method \n",
    "# from p3 reusing here\n",
    "\n",
    "def rk2(afunc,xi,vi,ti,dt):\n",
    "    a = afunc(vi,xi,ti)\n",
    "    tt = ti + dt/2\n",
    "    xt = xi + vi*dt/2\n",
    "    vt = vi + a*dt/2\n",
    "    at = afunc(vt,xt,tt)\n",
    "    vf = vi + at*dt\n",
    "    xf = xi + vt*dt\n",
    "    \n",
    "    return xf, vf\n",
    "    "
   ]
  },
  {
   "cell_type": "code",
   "execution_count": 114,
   "metadata": {},
   "outputs": [],
   "source": [
    "# combine planet plot sun marker and multiplot to plot multiple planet trajectories and sun marker\n",
    "def modifiedPlanetPlot(xAxis, yAxes, ylbls, xTitle, yTitle):\n",
    "    plt.figure(figsize=(10, 10))\n",
    "    plt.plot(0, 0, color = 'y', marker='.', markersize=20)\n",
    "    multy_x = isinstance(xAxis[0], (list, np.ndarray))\n",
    "    for ii in range(len(yAxes)):\n",
    "        if multy_x:\n",
    "            # Assume there is an idependent axis for each dependent one\n",
    "            plt.plot(xAxis[ii], yAxes[ii], label=ylbls[ii])\n",
    "        else:\n",
    "            # Assume all plots share the same dependent axis\n",
    "            plt.plot(xAxis, yAxes[ii], label=ylbls[ii])\n",
    "    plt.xlabel(xTitle)\n",
    "    plt.ylabel(yTitle)\n",
    "    plt.grid()\n",
    "    plt.legend(loc=\"best\")"
   ]
  },
  {
   "cell_type": "markdown",
   "metadata": {},
   "source": [
    "I changed all the numbers to be in terms of AU, solar masses $M_\\odot$, and years to simplyfy the math and make the plot axes look nicer."
   ]
  },
  {
   "cell_type": "code",
   "execution_count": 115,
   "metadata": {},
   "outputs": [],
   "source": [
    "s2yr = 365*24*60*60 # number of s in 1 yr for conversions, 365 d/y * 24 h/d * 60 m/h * 60 s/m\n",
    "\n",
    "# constants used (https://nssdc.gsfc.nasa.gov/planetary/factsheet/sunfact.html)\n",
    "\n",
    "Msunkg = 1.9885 * 10**30 # kg\n",
    "Mearthkg = 5.9724 * 10**24 # kg\n",
    "Gconst = 6.67408 * 10**(-11) # gravitational constant\n",
    "AU = 1.496 * 10**11 # m, 1 AU, orbital radius of earth around sun\n",
    "vearth = 2.978 * 10**4 # m/s\n",
    "\n",
    "Msun = 1\n",
    "vAU = vearth*s2yr/AU\n",
    "vAU = 2*np.pi\n",
    "G = 39.478 # AU^3 * yr^-2 * Msun^-1"
   ]
  },
  {
   "cell_type": "markdown",
   "metadata": {},
   "source": [
    "The force equation for Newton's law of gravitation above was divided by the mass of the planet $(m)$ to get the acceleration of the planet,\n",
    "\n",
    "$$\\vec{a} = - GM\\left(\\frac{x\\hat{x}}{(x^2 + y^2)^{3/2}} + \\frac{y\\hat{y}}{(x^2 + y^2)^{3/2}}\\right)$$.\n",
    "\n",
    "This was implimented as an acceleration function to use with my rk2 fucntion."
   ]
  },
  {
   "cell_type": "code",
   "execution_count": 116,
   "metadata": {},
   "outputs": [],
   "source": [
    "# newtons law of gravitation, only in terms of star mass to get planetary acceleration, assuming star position is constant\n",
    "# acts on 2d x array with x in [0] and y in [1]\n",
    "\n",
    "def NLG(vi,xi,ti):\n",
    "    a = np.zeros(len(xi))\n",
    "    a[0] = - G * Msun * xi[0] / (xi[0]**2 + xi[1]**2) ** (3/2)\n",
    "    a[1] = - G * Msun * xi[1] / (xi[0]**2 + xi[1]**2) ** (3/2)\n",
    "    return a"
   ]
  },
  {
   "cell_type": "markdown",
   "metadata": {},
   "source": [
    "The velocity for the parabolic tragectory was found combinaing the gravitational potential energy,\n",
    "\n",
    "$ V = \\frac{GMm}{r^2}$\n",
    "\n",
    "and \n",
    "\n",
    "$ K = \\frac{1}{2}mv^2$.\n",
    "\n",
    "Where the total energy is 0,\n",
    "\n",
    "$ 0 = V - K = \\frac{GMm}{r^2} - \\frac{1}{2}mv^2$,\n",
    "\n",
    "$ \\frac{GMm}{r^2} = \\frac{1}{2}mv^2$,\n",
    "\n",
    "and finally,\n",
    "\n",
    "$ v^2 = \\frac{2GM}{r^2}$.\n",
    "\n",
    "Subtituting in the numbers:\n",
    "\n",
    "$ v^2 = \\frac{2G M_\\odot}{1 AU}$."
   ]
  },
  {
   "cell_type": "code",
   "execution_count": 117,
   "metadata": {
    "scrolled": false
   },
   "outputs": [
    {
     "data": {
      "image/png": "[encoded data removed]",
      "text/plain": [
       "<Figure size 720x720 with 1 Axes>"
      ]
     },
     "metadata": {
      "needs_background": "light"
     },
     "output_type": "display_data"
    }
   ],
   "source": [
    "vy0 = - vearth*1.5 # inital speed in m/s (average orbital speed of earth), decreased for eliptical orbit\n",
    "vx0 = 0\n",
    "x0 = AU # inital x, increased for eliptical orbit \n",
    "y0 = 0 # inital y, set to 0 since starting on x axis\n",
    "dt = 0.1/365 # 1 timestep per day\n",
    "tf = 4 # yr\n",
    "\n",
    "# time array\n",
    "t = np.arange(0,tf,dt)\n",
    "# 2D arrays for position and velocity in x and y\n",
    "xcirc = np.zeros((len(t),2))\n",
    "vcirc = np.zeros((len(t),2))\n",
    "xelip = np.zeros((len(t),2))\n",
    "velip = np.zeros((len(t),2))\n",
    "xpar = np.zeros((len(t),2))\n",
    "vpar = np.zeros((len(t),2))\n",
    "xhyp = np.zeros((len(t),2))\n",
    "vhyp = np.zeros((len(t),2))\n",
    "\n",
    "# set inital conditions, all will begin with earths distance from the sun and some velocity\n",
    "# circular orbit with earthsvelocity and radius\n",
    "xcirc[0,:] = [1, 0]\n",
    "vcirc[0,:] = [0,vAU]\n",
    "\n",
    "# eliptical orbit with higher inital velocity than earth \n",
    "xelip[0,:] = [1, 0]\n",
    "velip[0,:] = [0,vAU*1.25]\n",
    "\n",
    "# parabolic, close to star has kinetic energy equal to gravitational energy so total energy is 0\n",
    "v0par = np.sqrt(2*G)\n",
    "\n",
    "xpar[0,:] = [1, 0]\n",
    "vpar[0,:] = [0,v0par]\n",
    "\n",
    "# hyperbolic, higher kinetic energy than gravitational \n",
    "xhyp[0,:] = [1, 0]\n",
    "vhyp[0,:] = [0,v0par*1.25]\n",
    "\n",
    "# for loop for finding initial position for parabolic and hyperbolic runs for half of total time with opposite of inital velocity\n",
    "for i in range((len(t) - 1)//2):\n",
    "    xpar[i + 1,:], vpar[i + 1,:] = rk2(NLG, xpar[i,:], vpar[i,:], t[i], dt)\n",
    "    xhyp[i + 1,:], vhyp[i + 1,:] = rk2(NLG, xhyp[i,:], vhyp[i,:], t[i], dt)\n",
    "\n",
    "# parabolic\n",
    "xpar[0,:] = xpar[i+1,:]\n",
    "vpar[0,:] = - vpar[i+1,:]\n",
    "\n",
    "# hyperbolic\n",
    "xhyp[len(t)%2,:] = xhyp[i+1,:]\n",
    "vhyp[len(t)%2,:] = - vhyp[i+1,:]\n",
    "\n",
    "# numerical for loop\n",
    "for i in range(len(t) -1):\n",
    "    xcirc[i + 1,:], vcirc[i + 1,:] = rk2(NLG, xcirc[i,:], vcirc[i,:], t[i], dt)\n",
    "    xelip[i + 1,:], velip[i + 1,:] = rk2(NLG, xelip[i,:], velip[i,:], t[i], dt)\n",
    "    xpar[i + 1,:], vpar[i + 1,:] = rk2(NLG, xpar[i,:], vpar[i,:], t[i], dt)\n",
    "    xhyp[i + 1,:], vhyp[i + 1,:] = rk2(NLG, xhyp[i,:], vhyp[i,:], t[i], dt)\n",
    "\n",
    "# PhysPlot.plot(xelip[:,0]/AU, xelip[:,1]/AU, \"x (AU)\",\"y (AU)\")\n",
    "\n",
    "modifiedPlanetPlot([xcirc[:,0], xelip[:,0], xpar[:,0], xhyp[:,0]], [xcirc[:,1], xelip[:,1], xpar[:,1], xhyp[:,1]], [\"Circular\", \"Eliptical\", \"Parabolic\", \"Hyperbolic\"], \"x (AU)\",\"y (AU)\")\n",
    "\n",
    "# PhysPlot.plot(t, E, r\"Time ($t,$ $s$)\", r\"Energy ($E,$ $J$)\")\n",
    "# PhysPlot.multiplot([x[0:i], xa[0:nodragstop], xalindrag[0:i]], [z[0:i], za[0:nodragstop], zalindrag[0:i]], [\"Numerical\", \"Analytic - no drag\", \"Analytic - drag\"], \"x (m)\", \"z (m)\")\n",
    "\n",
    "# parabolara is where energy of the system = 0"
   ]
  },
  {
   "cell_type": "markdown",
   "metadata": {
    "tags": []
   },
   "source": [
    "## Problem 2. Verify Kepler's Laws of Planetary Motion (4 points)\n",
    "Using Newton's Law of Gravitation, solve for the trajectory of a planet orbitting a star using the second order Runge-kutta method (RK2). The initial conditions are yours to choose, as well as the parameters, but make sure the resulting orbit is elliptical. Make sure you run the integration for a full oscillation, so the planet returns to its (approximate) original position.\n",
    "\n",
    "Kepler's Laws are:\n",
    "\n",
    "#### 1) Law of Ellipses: The orbit of a planet is an ellipse with the Sun at one of its foci (2points).\n",
    "\n",
    "For this part you should:\n",
    "\n",
    "1) Plot the orbit you obtained ($x \\times y$).\n",
    "\n",
    "2) Calculate the kinetic energy, the potential energy, the total energy and the angular momentum for every time step. Recall that:\n",
    "\n",
    "$$E = \\frac{1}{2}mv^2 + V$$\n",
    "$$L = \\vec{r} \\times m\\vec{v}$$\n",
    "\n",
    "3) Plot the three energies (total, potential and kinetic) in a single graph as a function of time. Is the total energy conserved?\n",
    "\n",
    "4) Plot the total angular momentum as a function of time. Is it conserved?\n",
    "\n",
    "5) Find the parameters a, b, and $\\epsilon$ from your data. Recall that:\n",
    "\n",
    "- $a$ is the distance from the \"center\" to the farthest distance out, semi-major axis\n",
    "- $b$ is the distance from the \"center\" to the closest distance, semi-minor axis\n",
    "- $\\epsilon$ is the eccentricity of the ellipse\n",
    "\n",
    "6) Use the values of a and b to recalculate the total energy E and the angular momentum L. Compare to what you obtained from position and velocity.\n",
    "\n",
    "The equations that you should be using are (other equations are allowed if they are easier):\n",
    "\n",
    "$$a^2 = b^2 + (\\epsilon a)^2$$\n",
    "$$\\frac{L^2}{GMm^2}=a(1-\\epsilon^2)$$\n",
    "$$E = -\\frac{GMm}{2a}$$"
   ]
  },
  {
   "cell_type": "markdown",
   "metadata": {},
   "source": [
    "I used the eliptical orbit from part 1, $r_1 = 1 AU,  v_1 = 1.25v_{earth} $, the velip array from the previous question willl be used for this."
   ]
  },
  {
   "cell_type": "code",
   "execution_count": 118,
   "metadata": {},
   "outputs": [],
   "source": [
    "def planetPlot(x, y, xlabel, ylabel):\n",
    "    # plt.plot(x[0], y[0], 'go', marker=\".\", markersize=10)\n",
    "    plt.plot(0, 0, 'y', marker='.', markersize=20)\n",
    "    plt.plot(x, y)\n",
    "    plt.xlabel(xlabel)\n",
    "    plt.ylabel(ylabel)\n",
    "    plt.grid()"
   ]
  },
  {
   "cell_type": "code",
   "execution_count": 119,
   "metadata": {
    "scrolled": true
   },
   "outputs": [
    {
     "data": {
      "image/png": "[encoded data removed]",
      "text/plain": [
       "<Figure size 432x288 with 1 Axes>"
      ]
     },
     "metadata": {
      "needs_background": "light"
     },
     "output_type": "display_data"
    }
   ],
   "source": [
    "planetPlot(xelip[:,0], xelip[:,1], \"x (AU)\", \"y (AU)\")"
   ]
  },
  {
   "cell_type": "code",
   "execution_count": 128,
   "metadata": {},
   "outputs": [
    {
     "data": {
      "image/png": "[encoded data removed]",
      "text/plain": [
       "<Figure size 504x360 with 1 Axes>"
      ]
     },
     "metadata": {
      "needs_background": "light"
     },
     "output_type": "display_data"
    }
   ],
   "source": [
    "# energies\n",
    "# find kinetic, gravitational, and total energies for each time step, using the mass as the mass of earth in solar masses\n",
    "\n",
    "mearth = Mearthkg/Msunkg\n",
    "# kinetic \n",
    "K = 0.5*mearth*(velip[:,0]**2 + velip[:,1]**2)\n",
    "# gravitational\n",
    "V = - G*Msun*mearth/np.sqrt(xelip[:,0]**2 + xelip[:,1]**2)\n",
    "# total\n",
    "E = K + V\n",
    "# orbital period to slice graphs\n",
    "# This is messy but it converts the np.where output into a bare integer which I have used for the graphs\n",
    "Tcut = np.array(np.where(xelip[100:,0] == max(xelip[100:,0])))[0,0]\n",
    "T = t[Tcut]\n",
    "\n",
    "PhysPlot.multiplot(t[: Tcut], [K[: Tcut], V[: Tcut], E[: Tcut]], [\"Kinetic energy\", \"Gravitational energy\", \"Total energy\"], r\"Time (yr)\", r\"Energy ($M_\\odot AU^2 yr^{-2}$)\")"
   ]
  },
  {
   "cell_type": "markdown",
   "metadata": {},
   "source": [
    "$$ \\vec{L} = m \\vec{r} \\times \\vec{v},$$\n",
    "\n",
    "$$ \\vec{L} =  \t\n",
    "\\begin{vmatrix}\n",
    "\\hat{i} & \\hat{j} & \\hat{k}\\\\\n",
    "r_x & r_y & r_z\\\\\n",
    "v_x & v_y & v_z\n",
    "\\end{vmatrix},$$\n",
    "\n",
    "$$ r_z = v_z = 0, $$\n",
    "\n",
    "$$ \\vec{L} = m (\\ r_x v_y - r_y v_x )\\ \\hat{k}  .$$"
   ]
  },
  {
   "cell_type": "code",
   "execution_count": 129,
   "metadata": {},
   "outputs": [
    {
     "data": {
      "text/plain": [
       "(0.0, 3e-05)"
      ]
     },
     "execution_count": 129,
     "metadata": {},
     "output_type": "execute_result"
    },
    {
     "data": {
      "image/png": "[encoded data removed]",
      "text/plain": [
       "<Figure size 504x360 with 1 Axes>"
      ]
     },
     "metadata": {
      "needs_background": "light"
     },
     "output_type": "display_data"
    }
   ],
   "source": [
    "# angular momentum\n",
    "\n",
    "L = mearth * (xelip[:,0] * velip[:,1] - xelip[:,1] * velip[:,0])\n",
    "\n",
    "# PhysPlot.plot(t[: 1265], L[: 1265], r\"Time (yr)\", r\"L (something)\")\n",
    "# need to scale axes to make a nice straight line\n",
    "\n",
    "plt.figure(figsize=(7, 5))\n",
    "plt.plot(t[: Tcut], L[: Tcut])\n",
    "plt.xlabel(\"Time (yr)\")\n",
    "plt.ylabel(\"$L \\hat{k}$  $(M_\\odot AU^2 / yr)$\")\n",
    "plt.grid()\n",
    "ax = plt.gca()\n",
    "ax.set_ylim(0, 0.00003)\n"
   ]
  },
  {
   "cell_type": "markdown",
   "metadata": {},
   "source": [
    "Using the geomentry of the elipse, $a$ is the furthest distance beween two points passing through the centre of the elipse, and $b$ is the closest. So,\n",
    "\n",
    "$$a = \\frac{x_{max} - x_{min}}{2};$$\n",
    "\n",
    "and\n",
    "\n",
    "$$b = \\frac{y_{max} - y_{min}}{2}.$$\n",
    "\n",
    "From these using,\n",
    "\n",
    "$$ \\epsilon^2 = \\frac{ a^2 - b^2}{a^2} ,$$\n",
    "$$L^2 = GMm^2 a(1-\\epsilon^2),$$\n",
    "$$E = -\\frac{GMm}{2a}.$$\n",
    "\n",
    "The eccentricity $\\epsilon$, angular momentum $L$, and energy $E$ can be found.\n"
   ]
  },
  {
   "cell_type": "code",
   "execution_count": 130,
   "metadata": {},
   "outputs": [
    {
     "name": "stdout",
     "output_type": "stream",
     "text": [
      "Semi-major axis a = 2.2858 AU\n",
      "Semi-minor axis b = 1.8899 AU\n",
      "Eccentricity ϵ = 0.5625\n",
      "Theoretical energy E = -2.594e-05 which is equal to energy from velocity -2.594e-05\n",
      "Theoretical angular momentum L = 2.359e-05 which is equal to an angular momentum from position 2.359e-05\n"
     ]
    }
   ],
   "source": [
    "a = (xelip[:,0].max() - xelip[:,0].min())/2\n",
    "b = (xelip[:,1].max() - xelip[:,1].min())/2\n",
    "\n",
    "epsilon = np.sqrt((a**2 - b**2)/a**2)\n",
    "Ltheor = np.sqrt(G*Msun*(mearth**2)*a*(1 - epsilon**2))\n",
    "Etheor = - G*Msun*mearth/(2*a)\n",
    "\n",
    "print(\"Semi-major axis a =\", round(a,4), \"AU\")\n",
    "print(\"Semi-minor axis b =\", round(b,4), \"AU\")\n",
    "print(\"Eccentricity ϵ =\", round(epsilon,4))\n",
    "print(\"Theoretical energy E =\", round(Etheor,8), \"which is equal to energy from velocity\", round(E[0],8))\n",
    "print(\"Theoretical angular momentum L =\", round(Ltheor, 8), \"which is equal to an angular momentum from position\", round(L[0],8))"
   ]
  },
  {
   "cell_type": "markdown",
   "metadata": {},
   "source": [
    "#### 2) Law of Equal Areas: An area swept by a line connecting the Sun and the planet over a constant time period will always be the same (1 point). \n",
    "Some geometry will be needed here. Remember how we calculated an increment of area from $\\vec{r}$ and $d\\vec{r}$ in class. There are two possible ways to prove this law:\n",
    "1) Calculate the increment of area swept for each time step and plot this as a function of time. Do you get a constant?\n",
    "\n",
    "2) Calculate the total area swepts for two equal chunks of time at two different parts of the orbit. Do you get the same total?"
   ]
  },
  {
   "cell_type": "markdown",
   "metadata": {},
   "source": [
    "For this problem I calculated the area swept out by the planet for each time step swept out over the course of one orbit. For a planet that moves distance $d\\vec{r}$ in a timestep $dt$ and sweeps out an angle $d\\vec{\\theta}$ the area swept out in that time is:\n",
    "\n",
    "$ \\frac{dA}{dt} = \\frac{1}{2} r dr,$"
   ]
  },
  {
   "cell_type": "code",
   "execution_count": 131,
   "metadata": {},
   "outputs": [
    {
     "name": "stdout",
     "output_type": "stream",
     "text": [
      "Area calculated from the difference in radius dr, even reducing the timestep dt did not eliminate the errors\n"
     ]
    },
    {
     "data": {
      "text/plain": [
       "(0.0, 0.0015)"
      ]
     },
     "execution_count": 131,
     "metadata": {},
     "output_type": "execute_result"
    },
    {
     "data": {
      "image/png": "[encoded data removed]",
      "text/plain": [
       "<Figure size 504x360 with 1 Axes>"
      ]
     },
     "metadata": {
      "needs_background": "light"
     },
     "output_type": "display_data"
    }
   ],
   "source": [
    "r = np.sqrt(xelip[:,0]**2 + xelip[:,1]**2)\n",
    "theta = np.arccos(xelip[:,0]/r)\n",
    "\n",
    "Ar = np.zeros(len(t))\n",
    "Atheta = np.zeros(len(t))\n",
    "\n",
    "for i in range((len(r) - 1)):\n",
    "    dr = np.sqrt((xelip[i+1,0] - xelip[i,0])**2 + (xelip[i+1,1] - xelip[i,1])**2)\n",
    "    Ar[i] = 0.5*dr*r[i]\n",
    "    Atheta[i] = 0.5*np.abs(theta[i + 1] - theta[i])*r[i]**2\n",
    "\n",
    "print(\"Area calculated from the difference in radius dr, even reducing the timestep dt did not eliminate the errors\")\n",
    "plt.figure(figsize=(7, 5))\n",
    "plt.plot(t[: Tcut], Ar[: Tcut])\n",
    "plt.xlabel(\"Time (yr)\")\n",
    "plt.ylabel(\"Area swept $(AU^2)$\")\n",
    "plt.grid()\n",
    "ax = plt.gca()\n",
    "ax.set_ylim(0, 0.0015) \n",
    "\n",
    "# PhysPlot.plot(t[:1265],Ar[:1265],\"time (yr)\", \"area swept from radius (AU)\")\n",
    "# PhysPlot.plot(t[:1265],Atheta[:1265],\"time (yr)\", \"area swept from angle (AU^2)\")"
   ]
  },
  {
   "cell_type": "code",
   "execution_count": 132,
   "metadata": {},
   "outputs": [
    {
     "name": "stdout",
     "output_type": "stream",
     "text": [
      "Area calculated from difference in angle dθ, this solution has worked correctlyexcept for the error where θ = 0\n"
     ]
    },
    {
     "data": {
      "text/plain": [
       "(0.0, 0.0015)"
      ]
     },
     "execution_count": 132,
     "metadata": {},
     "output_type": "execute_result"
    },
    {
     "data": {
      "image/png": "[encoded data removed]",
      "text/plain": [
       "<Figure size 504x360 with 1 Axes>"
      ]
     },
     "metadata": {
      "needs_background": "light"
     },
     "output_type": "display_data"
    }
   ],
   "source": [
    "print(\"Area calculated from difference in angle dθ, this solution has worked correctlyexcept for the error where θ = 0\")\n",
    "plt.figure(figsize=(7, 5))\n",
    "plt.plot(t[: Tcut], Atheta[: Tcut])\n",
    "plt.xlabel(\"Time (yr)\")\n",
    "plt.ylabel(\"Area swept $(AU^2)$\")\n",
    "plt.grid()\n",
    "ax = plt.gca()\n",
    "ax.set_ylim(0, 0.0015)  \n",
    "    "
   ]
  },
  {
   "cell_type": "markdown",
   "metadata": {},
   "source": [
    "#### 3) Harmonic Law: The square of the orbital period of the planet is directly proportional to the cube of the semimajor axis of the planets orbit. \n",
    "That is:\n",
    "\n",
    "$$\\tau^2 = \\frac{4\\pi^2}{GM}a^3$$\n",
    "\n",
    "Getting the orbital period is a little tricky here. Remember that the orbital period should be the time it takes for the initial position and the position at some time $\\tau$ be the same as the initial position. However, because of numerical errors, the position after one cycle is not going to coincide perfectly with the initial position.\n",
    "\n",
    "Using $\\tau$ and $a$, show that the equation is satisfied.\n"
   ]
  },
  {
   "cell_type": "markdown",
   "metadata": {},
   "source": [
    "The period was found above using these lines:\n",
    "\n",
    "Tcut = np.array(np.where(xelip[100:,0] == max(xelip[100:,0])))[0,0]\n",
    "\n",
    "T = t[Tcut]\n",
    "\n",
    "Which were used to slice the graphs to only show one period. \n",
    "\n",
    "To prove this I compared,\n",
    "\n",
    "$\\frac{\\tau^2}{a^3},$\n",
    "\n",
    "found from my data with,\n",
    "\n",
    "$\\frac{4 \\pi^2}{G M_\\odot}$\n",
    "\n",
    "and computed a percent difference."
   ]
  },
  {
   "cell_type": "code",
   "execution_count": 144,
   "metadata": {},
   "outputs": [
    {
     "name": "stdout",
     "output_type": "stream",
     "text": [
      "The numerical constant from my data was 0.98422 yr^2/AU^3\n",
      "The nutheoretical constant was 1.00001 yr^2/AU^3\n",
      "The percent difference is 1.6042 %\n"
     ]
    }
   ],
   "source": [
    "numerical = T**2/a**3\n",
    "theoretical = 4*np.pi**2/(G*Msun)\n",
    "\n",
    "print(\"The numerical constant from my data was\", round(numerical,5), \"yr^2/AU^3\")\n",
    "print(\"The nutheoretical constant was\", round(theoretical,5), \"yr^2/AU^3\")\n",
    "\n",
    "print(\"The percent difference is\", round((theoretical - numerical)/numerical*100,4), \"%\")"
   ]
  },
  {
   "cell_type": "markdown",
   "metadata": {},
   "source": [
    "Here is what my plots look like (don't worry about making the dots representing the planet and the star):"
   ]
  },
  {
   "cell_type": "markdown",
   "metadata": {},
   "source": [
    "<img src=\"images/p4_p2a.jpg\" width=500 style=\"float:left\"/>\n",
    "<img src=\"images/p4_p2b.jpg\" width=500 style=\"float:center\"/>\n",
    "<img src=\"images/p4_p2c.jpg\" width=500 style=\"float:left\"/>\n",
    "<img src=\"images/p4_p2d.jpg\" width=500 style=\"float:center\"/>"
   ]
  },
  {
   "cell_type": "markdown",
   "metadata": {},
   "source": [
    "## Problem 3. Solve Problem C6.2 (2 points)\n",
    "Solve problem C6.2 from the textbook."
   ]
  },
  {
   "cell_type": "markdown",
   "metadata": {},
   "source": [
    "$r_p = r_0 = 6.6 \\times 10^6 m$\n",
    "\n",
    "$\\epsilon_0 = 0.9656$\n",
    "\n",
    "$\\epsilon_f = \\frac{1}{7}$\n",
    "\n",
    "With a small impulse which reduces the velocity at perogee $v_1$ by $\\delta = 0.01$ each time it passes through perogee.\n",
    "\n",
    "a) the angular momentum of each orbit is the same, the overall angular momentum $L$ will be reduced from $L_0 = mv_0r_0$ to $L_f = mr_0(v_0 - n\\delta)$ after $n$ orbits. Using: \n",
    "\n",
    "$\\frac{L_0^2}{G M_E m^2} = a_0(1 - \\epsilon_0^2)$\n",
    "\n",
    "and\n",
    "\n",
    "$ a_f = \\frac{r_f}{1 - \\epsilon_f} = \\frac{r_0}{1 - \\epsilon_f}.$\n",
    "\n",
    "We get:\n",
    "\n",
    "$\\frac{L_f^2}{G M_E m^2} = \\frac{r_0(1 - \\epsilon_f^2)}{1 - \\epsilon_f},$\n",
    "\n",
    "$(v_0 - n\\delta)^2 = \\frac{G M_E(1 - \\epsilon_f^2)}{r_0(1 - \\epsilon_f)},$\n",
    "\n",
    "$n\\delta - v_0 = - \\sqrt{\\frac{G M_E(1 - \\epsilon_f^2)}{r_0(1 - \\epsilon_f)}},$\n",
    "\n",
    "$n\\delta = v_0 - \\sqrt{\\frac{G M_E(1 - \\epsilon_f^2)}{r_0(1 - \\epsilon_f)}},$\n",
    "\n",
    "$n = \\frac{1}{\\delta} \\left( v_0- \\sqrt{\\frac{G M_E(1 - \\epsilon_f^2)}{r_0(1 - \\epsilon_f)}} \\right) .$\n",
    "\n",
    "Find the semi-major axis $a$ and inital velocity $v_0$ from the given inital conditions, and use these to find $n$:\n",
    "\n",
    "$ a_0 = \\frac{r_0}{1 - \\epsilon_0}$\n",
    "\n",
    "$v_0^2 = \\frac{G M_E a_0(1 - \\epsilon_0^2)}{r_0^2}$"
   ]
  },
  {
   "cell_type": "code",
   "execution_count": 169,
   "metadata": {},
   "outputs": [
    {
     "name": "stdout",
     "output_type": "stream",
     "text": [
      "Anylitical n = 258750.91977478808\n"
     ]
    }
   ],
   "source": [
    "r0 = 6.6*10**6 # m\n",
    "epsilon0 = 0.9656 #\n",
    "epsilonf = 1/7\n",
    "delta = 0.01\n",
    "\n",
    "a0 = r0/(1 - epsilon0)\n",
    "\n",
    "v0 = np.sqrt(Gconst*Mearthkg*a0*(1 - epsilon0**2)/r0**2)\n",
    "\n",
    "nanalitical = v0/delta - np.sqrt(Gconst*Mearthkg*(1 - epsilonf**2)/(r0*(1 - epsilonf)))/delta\n",
    "\n",
    "print(\"Anylitical n =\", nanalitical)"
   ]
  },
  {
   "cell_type": "markdown",
   "metadata": {},
   "source": [
    "The integration will consist of a large nummber of orbits, I have chosen a timestep $dt_E = 15 s$ for computing this integral using the rk2 method "
   ]
  },
  {
   "cell_type": "code",
   "execution_count": 184,
   "metadata": {},
   "outputs": [],
   "source": [
    "# planet plot which makes a large circle where earth is\n",
    "earthrad = 6.4*10**3\n",
    "\n",
    "#     plt.figure(figsize=(7, 5))\n",
    "#     plt.plot(xAxis, yAxis)\n",
    "#     plt.xlabel(xTitle)\n",
    "#     plt.ylabel(yTitle)\n",
    "#     plt.grid()\n",
    "\n",
    "def earthplot(xAxis, yAxis, xTitle, yTitle):\n",
    "    plt.figure(figsize=(10, 10))\n",
    "    # create earth\n",
    "    circle2 = plt.Circle((earthrad, earthrad), 0.2, color='blue')\n",
    "    plt.plot(xAxis, yAxis)\n",
    "#     multy_x = isinstance(xAxis[0], (list, np.ndarray))\n",
    "#     if len(xAxis) == 1:\n",
    "#         for ii in range(len(yAxes)):\n",
    "#             if multy_x:\n",
    "#                 # Assume there is an idependent axis for each dependent one\n",
    "#                 plt.plot(xAxis[ii], yAxes[ii], label=ylbls[ii])\n",
    "#             else:\n",
    "#                 # Assume all plots share the same dependent axis\n",
    "#                 plt.plot(xAxis, yAxes[ii], label=ylbls[ii])\n",
    "#     else:\n",
    "#         plt.plot(xAxis, yAxes, label = ylbls)\n",
    "        \n",
    "    plt.xlabel(xTitle)\n",
    "    plt.ylabel(yTitle)\n",
    "    plt.grid()\n",
    "    plt.legend(loc=\"best\")"
   ]
  },
  {
   "cell_type": "code",
   "execution_count": 185,
   "metadata": {},
   "outputs": [],
   "source": [
    "# newtons law of gravitation using earths mass\n",
    "\n",
    "def NLGearth(vi,xi,ti):\n",
    "    a = np.zeros(len(xi))\n",
    "    a[0] = - Gconst * Mearthkg * xi[0] / (xi[0]**2 + xi[1]**2) ** (3/2)\n",
    "    a[1] = - Gconst * Mearthkg * xi[1] / (xi[0]**2 + xi[1]**2) ** (3/2)\n",
    "    return a"
   ]
  },
  {
   "cell_type": "code",
   "execution_count": 188,
   "metadata": {
    "scrolled": false
   },
   "outputs": [
    {
     "name": "stderr",
     "output_type": "stream",
     "text": [
      "No handles with labels found to put in legend.\n"
     ]
    },
    {
     "name": "stdout",
     "output_type": "stream",
     "text": [
      "[[6.60000000e+06 0.00000000e+00]\n",
      " [6.60000000e+06 6.53727872e+05]\n",
      " [6.60000000e+06 1.30745574e+06]\n",
      " ...\n",
      " [6.60000000e+06 2.91804510e+10]\n",
      " [6.60000000e+06 2.91811048e+10]\n",
      " [0.00000000e+00 0.00000000e+00]]\n"
     ]
    },
    {
     "data": {
      "image/png": "[encoded data removed]",
      "text/plain": [
       "<Figure size 720x720 with 1 Axes>"
      ]
     },
     "metadata": {
      "needs_background": "light"
     },
     "output_type": "display_data"
    }
   ],
   "source": [
    "dtE = 60 # s\n",
    "tfE = 1*31*24*3600 # month\n",
    "\n",
    "# time array\n",
    "tE = np.arange(0,tfE,dtE)\n",
    "# 2D arrays for position and velocity in x and y\n",
    "r = np.zeros((len(tE),2))\n",
    "v = np.zeros((len(tE),2))\n",
    "\n",
    "# inital conditions as calculated above\n",
    "r[0,:] = [r0, 0]\n",
    "v[0,:] = [0,v0]\n",
    "\n",
    "# numerical for loop\n",
    "for i in range(len(tE) - 2):\n",
    "    r[i + 1,:], v[i + 1,:] = rk2(NLG, r[i,:], v[i,:], tE[i], dtE)\n",
    "    \n",
    "earthplot(r[:,0]*10**(-3), r[:,1]*10**(-3), \"x (km)\", \"y, (km)\")\n",
    "# PhysPlot.plot(xelip[:,0]/AU, xelip[:,1]/AU, \"x (AU)\",\"y (AU)\")\n",
    "\n",
    "# modifiedPlanetPlot(r[:,0], r[:,1], [\"Circular\"], \"x (AU)\",\"y (AU)\")\n",
    "\n",
    "# PhysPlot.plot(t, E, r\"Time ($t,$ $s$)\", r\"Energy ($E,$ $J$)\")\n",
    "# PhysPlot.multiplot([x[0:i], xa[0:nodragstop], xalindrag[0:i]], [z[0:i], za[0:nodragstop], zalindrag[0:i]], [\"Numerical\", \"Analytic - no drag\", \"Analytic - drag\"], \"x (m)\", \"z (m)\")\n",
    "\n",
    "# parabolara is where energy of the system = 0\n",
    "\n",
    "print(r)"
   ]
  },
  {
   "cell_type": "code",
   "execution_count": null,
   "metadata": {},
   "outputs": [],
   "source": []
  },
  {
   "cell_type": "code",
   "execution_count": null,
   "metadata": {},
   "outputs": [],
   "source": []
  }
 ],
 "metadata": {
  "kernelspec": {
   "display_name": "Python 3 (ipykernel)",
   "language": "python",
   "name": "python3"
  },
  "language_info": {
   "codemirror_mode": {
    "name": "ipython",
    "version": 3
   },
   "file_extension": ".py",
   "mimetype": "text/x-python",
   "name": "python",
   "nbconvert_exporter": "python",
   "pygments_lexer": "ipython3",
   "version": "3.9.7"
  }
 },
 "nbformat": 4,
 "nbformat_minor": 4
}
