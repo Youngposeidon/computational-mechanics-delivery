{
 "cells": [
  {
   "cell_type": "markdown",
   "metadata": {},
   "source": [
    "<img src=\"images/TRU_Logo_Horizontal_RGB-colour37470.png\" width=600 />\n",
    "<!-- The line above is html code. This line is html comment, it won't affect the output -->\n",
    "\n",
    "# Physics 2200 - Mechanics\n",
    "## Project 4 - Orbital Motion"
   ]
  },
  {
   "cell_type": "code",
   "execution_count": 17,
   "metadata": {},
   "outputs": [],
   "source": [
    "# Required modules\n",
    "import math\n",
    "import matplotlib.pyplot as plt\n",
    "import PhysPlot\n",
    "import numpy as np\n",
    "import csv\n",
    "from mpl_toolkits import mplot3d"
   ]
  },
  {
   "cell_type": "markdown",
   "metadata": {},
   "source": [
    "## Newton's Law of Gravitation, and Kepler's Laws of Planetary Motion"
   ]
  },
  {
   "cell_type": "markdown",
   "metadata": {},
   "source": [
    "Newton's Law of Gravitation gives the gravitational force which two objects exert on each other.\n",
    "\n",
    "$$\\vec{F} = G\\frac{mM}{r^2}\\hat{r}$$\n",
    "\n",
    "The issue here is that this is the polar form of the equation, the \"nice\" version. However, polar coordinates are not ideal for numerical calculations because the basis vector change everytime the position changes, so we need to first convert the equation into cartesian. Hold on to your hats kids.\n",
    "\n",
    "Recall that:\n",
    "\n",
    "$$r^2 = x^2 + y^2$$\n",
    "$$\\theta = \\tan^{-1}\\left(\\frac{y}{x}\\right)$$\n",
    "\n",
    "and \n",
    "\n",
    "$$\\hat{r} = \\frac{\\vec{r}}{|\\vec{r}|}$$\n",
    "\n",
    "with $\\vec{r} = x\\hat{x} + y\\hat{y}$\n",
    "\n",
    "Some clever combining yields the follwing not nice equation"
   ]
  },
  {
   "cell_type": "markdown",
   "metadata": {},
   "source": [
    "#### Newton's Law of Gravitation, Cartesian Form"
   ]
  },
  {
   "cell_type": "markdown",
   "metadata": {},
   "source": [
    "$$\\vec{F} = GmM\\left(\\frac{x\\hat{x}}{(x^2 + y^2)^{3/2}} + \\frac{y\\hat{y}}{(x^2 + y^2)^{3/2}}\\right)$$"
   ]
  },
  {
   "cell_type": "markdown",
   "metadata": {},
   "source": [
    "The textbook uses a much more horrific version of the equation, which deals with the separation vector $r_{12} = (x_2 - x_1) \\hat{x} + (y_2 - y_2) \\hat{y}$, but we're going to assume the origin is both the location of the star and the location of the focus of the elliptical orbit."
   ]
  },
  {
   "cell_type": "markdown",
   "metadata": {
    "tags": []
   },
   "source": [
    "## Problem 1. Types of orbits (1 point).\n",
    "Using Newton's Law of Gravitation, solve for the trajectory of a planet orbitting a star using the second order Runge-kutta method (RK2). \n",
    "\n",
    "Generate numerical solutions and plots for each of the different types of \"orbits\" by changing the initial conditions. You should try to recreate figure 6.5.2.e in the textbook. Notice you have to solve for the orbit by numerical integration (you should not simply plot analytical expression for an ellipse, parabola, etc...).\n",
    "\n",
    "1. Elliptical\n",
    "2. Parabolic\n",
    "3. Hyperbolic\n",
    "\n",
    "The conditions required for each orbit type is known from class, and to generate certain plots, you'll need to use negative time for a proper plot (*Hint: there should be only one parameter that changes in each case*).\n",
    "\n",
    "Here is what my plot looks like (don't worry about making the dots representing the planet and the star)."
   ]
  },
  {
   "cell_type": "markdown",
   "metadata": {},
   "source": [
    "<img src=\"images/p4_p1.jpg\" width=500 style=\"float:left\"/>"
   ]
  },
  {
   "cell_type": "code",
   "execution_count": 18,
   "metadata": {},
   "outputs": [],
   "source": [
    "# rk2 function that takes in the acceleration as a function in terms of position, velocity, and time.\n",
    "# Uses it to compute one iteration of the rk2 method \n",
    "# from p3 reusing here\n",
    "\n",
    "def rk2(afunc,xi,vi,ti,dt):\n",
    "    a = afunc(vi,xi,ti)\n",
    "    tt = ti + dt/2\n",
    "    xt = xi + vi*dt/2\n",
    "    vt = vi + a*dt/2\n",
    "    at = afunc(vt,xt,tt)\n",
    "    vf = vi + at*dt\n",
    "    xf = xi + vt*dt\n",
    "    \n",
    "    return xf, vf\n",
    "    "
   ]
  },
  {
   "cell_type": "code",
   "execution_count": 47,
   "metadata": {},
   "outputs": [],
   "source": [
    "# constants used (https://nssdc.gsfc.nasa.gov/planetary/factsheet/sunfact.html)\n",
    "\n",
    "Msun = 1.9885 * 10**30 # kg\n",
    "Mearth = 5.9724 * 10**24 # kg\n",
    "G = 6.67408 * 10**(-11) # gravitational constant\n",
    "rorbit = 1.496 * 10**11 # m, orbital radius of earth around sun\n",
    "vearth = 2.978 * 10**4 # m/s"
   ]
  },
  {
   "cell_type": "markdown",
   "metadata": {},
   "source": [
    "The force equation for Newton's law of gravitation above was divided by the mass of the planet $(m)$ to get the acceleration of the planet,\n",
    "\n",
    "$$\\vec{a} = GM\\left(\\frac{x\\hat{x}}{(x^2 + y^2)^{3/2}} + \\frac{y\\hat{y}}{(x^2 + y^2)^{3/2}}\\right)$$.\n",
    "\n",
    "This was implimented as an acceleration function to use with my rk2 fucntion."
   ]
  },
  {
   "cell_type": "code",
   "execution_count": 71,
   "metadata": {},
   "outputs": [],
   "source": [
    "# newtons law of gravitation, only in terms of star mass to get planetary acceleration, assuming star position is constant\n",
    "# acts on 2d x array with x in [0] and y in [1]\n",
    "\n",
    "def NLG(vi,xi,ti):\n",
    "    a = np.zeros(len(xi))\n",
    "    a[0] = - G * Msun * xi[0] / (xi[0]**2 + xi[1]**2) ** (3/2)\n",
    "    a[1] = - G * Msun * xi[1] / (xi[0]**2 + xi[1]**2) ** (3/2)\n",
    "    return a"
   ]
  },
  {
   "cell_type": "markdown",
   "metadata": {},
   "source": [
    "To get the different tragectories I used particles with the mass of the earth and different intial velocities, units of distance are divied by 1 au at the end of computation to make the final plot nicer, where 1 au is the mean radius of earths orbit $(1.496 \\times 10^{11} m)$."
   ]
  },
  {
   "cell_type": "code",
   "execution_count": 77,
   "metadata": {},
   "outputs": [
    {
     "data": {
      "image/png": "[encoded data removed]",
      "text/plain": [
       "<Figure size 504x360 with 1 Axes>"
      ]
     },
     "metadata": {
      "needs_background": "light"
     },
     "output_type": "display_data"
    }
   ],
   "source": [
    "gamma = 0.2 # gamma in s^-1\n",
    "\n",
    "vy0 = vearth*0.5 # inital speed in m/s (average orbital speed of earth), decreased for eliptical orbit\n",
    "vx0 = 0\n",
    "x0 = rorbit*2 # inital x, increased for eliptical orbit \n",
    "y0 = 0 # inital y, set to 0 since starting on x axis\n",
    "dt = 3600 # 1 h in s (24 timesteps per day)\n",
    "tf = 365*24*3600*2 # length of year in s times 2\n",
    "\n",
    "# create arrays for position and velocity in x and y\n",
    "t = np.arange(0,tf,dt)\n",
    "x = np.zeros((len(t),2))\n",
    "v = np.zeros((len(t),2))\n",
    "\n",
    "# set inital conditions\n",
    "x[0,0] = x0\n",
    "x[0,1] = y0\n",
    "v[0,0] = vx0\n",
    "v[0,1] = vy0\n",
    "\n",
    "# numerical for loop\n",
    "for i in range(len(t) -1):\n",
    "    x[i + 1,:], v[i + 1,:] = rk2(NLG, x[i,:], v[i,:], t[i], dt)\n",
    "\n",
    "\n",
    "PhysPlot.plot(x[:,0]/rorbit,x[:,1]/rorbit, \"x\",\"y\")\n",
    "\n",
    "# PhysPlot.plot(t, E, r\"Time ($t,$ $s$)\", r\"Energy ($E,$ $J$)\")\n",
    "# PhysPlot.multiplot([x[0:i], xa[0:nodragstop], xalindrag[0:i]], [z[0:i], za[0:nodragstop], zalindrag[0:i]], [\"Numerical\", \"Analytic - no drag\", \"Analytic - drag\"], \"x (m)\", \"z (m)\")"
   ]
  },
  {
   "cell_type": "markdown",
   "metadata": {
    "tags": []
   },
   "source": [
    "## Problem 2. Verify Kepler's Laws of Planetary Motion (4 points)\n",
    "Using Newton's Law of Gravitation, solve for the trajectory of a planet orbitting a star using the second order Runge-kutta method (RK2). The initial conditions are yours to choose, as well as the parameters, but make sure the resulting orbit is elliptical. Make sure you run the integration for a full oscillation, so the planet returns to its (approximate) original position.\n",
    "\n",
    "Kepler's Laws are:\n",
    "\n",
    "#### 1) Law of Ellipses: The orbit of a planet is an ellipse with the Sun at one of its foci (2points).\n",
    "\n",
    "For this part you should:\n",
    "\n",
    "1) Plot the orbit you obtained ($x \\times y$).\n",
    "2) Calculate the kinetic energy, the potential energy, the total energy and the angular momentum for every time step. Recall that:\n",
    "\n",
    "$$E = \\frac{1}{2}mv^2 + V$$\n",
    "$$L = \\vec{r} \\times m\\vec{v}$$\n",
    "\n",
    "3) Plot the three energies (total, potential and kinetic) in a single graph as a function of time. Is the total energy conserved?\n",
    "4) Plot the total angular momentum as a function of time. Is it conserved?\n",
    "5) Find the parameters a, b, and $\\epsilon$ from your data. Recall that:\n",
    "\n",
    "- $a$ is the distance from the \"center\" to the farthest distance out, semi-major axis\n",
    "- $b$ is the distance from the \"center\" to the closest distance, semi-minor axis\n",
    "- $\\epsilon$ is the eccentricity of the ellipse\n",
    "\n",
    "6) Use the values of a and b to recalculate the total energy E and the angular momentum L. Compare to what you obtained from position and velocity.\n",
    "\n",
    "The equations that you should be using are (other equations are allowed if they are easier):\n",
    "\n",
    "$$a^2 = b^2 + (\\epsilon a)^2$$\n",
    "$$\\frac{L^2}{GMm^2}=a(1-\\epsilon^2)$$\n",
    "$$E = -\\frac{GMm}{2a}$$\n",
    "\n",
    "#### 2) Law of Equal Areas: An area swept by a line connecting the Sun and the planet over a constant time period will always be the same (1 point). \n",
    "Some geometry will be needed here. Remember how we calculated an increment of area from $\\vec{r}$ and $d\\vec{r}$ in class. There are two possible ways to prove this law:\n",
    "1) Calculate the increment of area swept for each time step and plot this as a function of time. Do you get a constant?\n",
    "2) Calculate the total area swepts for two equal chunks of time at two different parts of the orbit. Do you get the same total?\n",
    "\n",
    "#### 3) Harmonic Law: The square of the orbital period of the planet is directly proportional to the cube of the semimajor axis of the planets orbit. \n",
    "That is:\n",
    "\n",
    "$$\\tau^2 = \\frac{4\\pi^2}{GM}a^3$$\n",
    "\n",
    "Getting the orbital period is a little tricky here. Remember that the orbital period should be the time it takes for the initial position and the position at some time $\\tau$ be the same as the initial position. However, because of numerical errors, the position after one cycle is not going to coincide perfectly with the initial position.\n",
    "\n",
    "Yousing $\\tau$ and $a$, show that the equation is satisfied.\n",
    "\n",
    "Here is what my plots look like (don't worry about making the dots representing the planet and the star):"
   ]
  },
  {
   "cell_type": "markdown",
   "metadata": {},
   "source": [
    "<img src=\"images/p4_p2a.jpg\" width=500 style=\"float:left\"/>\n",
    "<img src=\"images/p4_p2b.jpg\" width=500 style=\"float:center\"/>\n",
    "<img src=\"images/p4_p2c.jpg\" width=500 style=\"float:left\"/>\n",
    "<img src=\"images/p4_p2d.jpg\" width=500 style=\"float:center\"/>"
   ]
  },
  {
   "cell_type": "markdown",
   "metadata": {},
   "source": [
    "## Problem 3. Solve Problem C6.2 (2 points)\n",
    "Solve problem C6.2 from the textbook."
   ]
  },
  {
   "cell_type": "code",
   "execution_count": null,
   "metadata": {},
   "outputs": [],
   "source": []
  }
 ],
 "metadata": {
  "kernelspec": {
   "display_name": "Python 3 (ipykernel)",
   "language": "python",
   "name": "python3"
  },
  "language_info": {
   "codemirror_mode": {
    "name": "ipython",
    "version": 3
   },
   "file_extension": ".py",
   "mimetype": "text/x-python",
   "name": "python",
   "nbconvert_exporter": "python",
   "pygments_lexer": "ipython3",
   "version": "3.9.7"
  }
 },
 "nbformat": 4,
 "nbformat_minor": 4
}
